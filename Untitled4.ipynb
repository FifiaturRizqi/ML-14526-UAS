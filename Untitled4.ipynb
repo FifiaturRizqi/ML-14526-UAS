{
  "metadata": {
    "kernelspec": {
      "name": "python",
      "display_name": "Python (Pyodide)",
      "language": "python"
    },
    "language_info": {
      "codemirror_mode": {
        "name": "python",
        "version": 3
      },
      "file_extension": ".py",
      "mimetype": "text/x-python",
      "name": "python",
      "nbconvert_exporter": "python",
      "pygments_lexer": "ipython3",
      "version": "3.8"
    }
  },
  "nbformat_minor": 4,
  "nbformat": 4,
  "cells": [
    {
      "cell_type": "code",
      "source": "{\n \"cells\": [\n  {\n   \"cell_type\": \"markdown\",\n   \"metadata\": {},\n   \"source\": [\n    \"# Sistem Point of Sale (POS) untuk UMKM\\n\",\n    \"## Ringkasan dan Permasalahan Proyek\\n\",\n    \"Proyek ini bertujuan untuk mengembangkan sistem Point of Sale (POS) berbasis desktop untuk Usaha Mikro, Kecil, dan Menengah (UMKM) menggunakan metode Waterfall. Sistem manual yang saat ini digunakan oleh UMKM memiliki banyak keterbatasan, seperti tidak efisien, tidak akurat, dan kurang aman. Sistem yang diusulkan akan mengotomatisasi proses penjualan, meningkatkan pengelolaan data, dan menyediakan cara yang lebih aman dan efisien untuk mengelola transaksi.\"\n   ]\n  },",
      "metadata": {
        "trusted": true
      },
      "outputs": [
        {
          "ename": "<class 'SyntaxError'>",
          "evalue": "incomplete input (<ipython-input-1-fef0423c9040>, line 11)",
          "traceback": [
            "\u001b[0;36m  Cell \u001b[0;32mIn[1], line 11\u001b[0;36m\u001b[0m\n\u001b[0;31m    },\u001b[0m\n\u001b[0m      ^\u001b[0m\n\u001b[0;31mSyntaxError\u001b[0m\u001b[0;31m:\u001b[0m incomplete input\n"
          ],
          "output_type": "error"
        }
      ],
      "execution_count": 1
    },
    {
      "cell_type": "code",
      "source": "{\n \"cells\": [\n  {\n   \"cell_type\": \"markdown\",\n   \"metadata\": {},\n   \"source\": [\n    \"# Sistem Point of Sale (POS) untuk UMKM\\n\",\n    \"## Ringkasan dan Permasalahan Proyek\\n\",\n    \"Proyek ini bertujuan untuk mengembangkan sistem Point of Sale (POS) berbasis desktop untuk Usaha Mikro, Kecil, dan Menengah (UMKM) menggunakan metode Waterfall. Sistem manual yang saat ini digunakan oleh UMKM memiliki banyak keterbatasan, seperti tidak efisien, tidak akurat, dan kurang aman. Sistem yang diusulkan akan mengotomatisasi proses penjualan, meningkatkan pengelolaan data, dan menyediakan cara yang lebih aman dan efisien untuk mengelola transaksi.\"\n   ]\n  },\n  {\n   \"cell_type\": \"code\",\n   \"execution_count\": 1,\n   \"metadata\": {},\n   \"outputs\": [],\n   \"source\": [\n    \"# Import library\\n\",\n    \"import pandas as pd\\n\",\n    \"import numpy as np\\n\",\n    \"from sklearn.model_selection import train_test_split\\n\",\n    \"from sklearn.linear_model import LinearRegression\\n\",\n    \"from sklearn.metrics import mean_absolute_error, mean_squared_error\"\n   ]\n  },\n  {\n   \"cell_type\": \"markdown\",\n   \"metadata\": {},\n   \"source\": [\n    \"## Load Dataset\\n\",\n    \"Dataset yang digunakan dalam proyek ini terdiri dari:\\n\",\n    \"1. Informasi produk: nama produk, kode produk, harga, dan kuantitas stok.\\n\",\n    \"2. Informasi pelanggan: nama pelanggan, nomor telepon, dan alamat.\\n\",\n    \"3. Data transaksi: tanggal transaksi, produk yang dijual, kuantitas, dan harga total.\"\n   ]\n  },\n  {\n   \"cell_type\": \"code\",\n   \"execution_count\": 2,\n   \"metadata\": {},\n   \"outputs\": [],\n   \"source\": [\n    \"# Load dataset\\n\",\n    \"df = pd.read_csv('dataset.csv')\"\n   ]\n  },\n  {\n   \"cell_type\": \"markdown\",\n   \"metadata\": {},\n   \"source\": [\n    \"## Data Preprocessing\\n\",\n    \"Dataset akan dibersihkan dan diproses menggunakan langkah-langkah berikut:\\n\",\n    \"1. Menangani nilai yang hilang: menggantikan nilai yang hilang dengan nilai rata-rata atau median.\\n\",\n    \"2. Normalisasi data: menormalisasi data untuk mencegah fitur dengan rentang besar dari mendominasi model.\\n\",\n    \"3. Rekayasa fitur: membuat fitur baru dari fitur yang ada, seperti menghitung harga total setiap transaksi.\"\n   ]\n  },\n  {\n   \"cell_type\": \"code\",\n   \"execution_count\": 3,\n   \"metadata\": {},\n   \"outputs\": [],\n   \"source\": [\n    \"# Data preprocessing\\n\",\n    \"# Menangani nilai yang hilang\\n\",\n    \"df.fillna(df.mean(), inplace=True)\\n\",\n    \"\\n\",\n    \"# Normalisasi data\\n\",\n    \"from sklearn.preprocessing import StandardScaler\\n\",\n    \"scaler = StandardScaler()\\n\",\n    \"df[['harga', 'kuantitas']] = scaler.fit_transform(df[['harga', 'kuantitas']])\\n\",\n    \"\\n\",\n    \"# Rekayasa fitur\\n\",\n    \"df['total_harga'] = df['harga'] * df['kuantitas']\"\n   ]\n  },\n  {\n   \"cell_type\": \"markdown\",\n   \"metadata\": {},\n   \"source\": [\n    \"## Proses Pembelajaran / Modeling\\n\",\n    \"Model pembelajaran mesin yang digunakan dalam proyek ini adalah model regresi yang diawasi. Model akan dilatih menggunakan dataset yang diproses untuk memprediksi harga total setiap transaksi.\"\n   ]\n  },\n  {\n   \"cell_type\": \"code\",\n   \"execution_count\": 4,\n   \"metadata\": {},\n   \"outputs\": [],\n   \"source\": [\n    \"# Proses pembelajaran / modeling\\n\",\n    \"X = df.drop('total_harga', axis=1)\\n\",\n    \"y = df['total_harga']\\n\",\n    \"X_train, X_test, y_train, y_test = train_test_split(X, y, test_size=0.2, random_state=42)\\n\",\n    \"\\n\",\n    \"model = LinearRegression()\\n\",\n    \"model.fit(X_train, y_train)\"\n   ]\n  },\n  {\n   \"cell_type\": \"markdown\",\n   \"metadata\": {},\n  ",
      "metadata": {
        "trusted": true
      },
      "outputs": [
        {
          "ename": "<class 'SyntaxError'>",
          "evalue": "incomplete input (<ipython-input-2-f5326cf9f70d>, line 103)",
          "traceback": [
            "\u001b[0;36m  Cell \u001b[0;32mIn[2], line 103\u001b[0;36m\u001b[0m\n\u001b[0;31m    \u001b[0m\n\u001b[0m    ^\u001b[0m\n\u001b[0;31mSyntaxError\u001b[0m\u001b[0;31m:\u001b[0m incomplete input\n"
          ],
          "output_type": "error"
        }
      ],
      "execution_count": 2
    },
    {
      "cell_type": "code",
      "source": " {\n   \"cell_type\": \"markdown\",\n   \"metadata\": {},\n   \"source\": [\n    \"## Load Dataset\\n\",\n    \"Dataset yang digunakan dalam proyek ini terdiri dari:\\n\",\n    \"1. Informasi produk: nama produk, kode produk, harga, dan kuantitas stok.\\n\",\n    \"2. Informasi pelanggan: nama pelanggan, nomor telepon, dan alamat.\\n\",\n    \"3. Data transaksi: tanggal transaksi, produk yang dijual, kuantitas, dan harga total.\"\n   ]\n  },",
      "metadata": {
        "trusted": true
      },
      "outputs": [
        {
          "execution_count": 3,
          "output_type": "execute_result",
          "data": {
            "text/plain": "({'cell_type': 'markdown',\n  'metadata': {},\n  'source': ['## Load Dataset\\n',\n   'Dataset yang digunakan dalam proyek ini terdiri dari:\\n',\n   '1. Informasi produk: nama produk, kode produk, harga, dan kuantitas stok.\\n',\n   '2. Informasi pelanggan: nama pelanggan, nomor telepon, dan alamat.\\n',\n   '3. Data transaksi: tanggal transaksi, produk yang dijual, kuantitas, dan harga total.']},)"
          },
          "metadata": {}
        }
      ],
      "execution_count": 3
    },
    {
      "cell_type": "code",
      "source": "  {\n   \"cell_type\": \"code\",\n   \"execution_count\": 2,\n   \"metadata\": {},\n   \"outputs\": [],\n   \"source\": [\n    \"# Load dataset\\n\",\n    \"df = pd.read_csv('dataset.csv')\"\n   ]\n  },\n  {\n   \"cell_type\": \"markdown\",\n   \"metadata\": {},\n   \"source\": [\n    \"## Data Preprocessing\\n\",\n    \"Dataset akan dibersihkan dan diproses menggunakan langkah-langkah berikut:\\n\",\n    \"1. Menangani nilai yang hilang: menggantikan nilai yang hilang dengan nilai rata-rata atau median.\\n\",\n    \"2. Normalisasi data: menormalisasi data untuk mencegah fitur dengan rentang besar dari mendominasi model.\\n\",\n    \"3. Rekayasa fitur: membuat fitur baru dari fitur yang ada, seperti menghitung harga total setiap transaksi.\"\n   ]\n  },",
      "metadata": {
        "trusted": true
      },
      "outputs": [
        {
          "execution_count": 4,
          "output_type": "execute_result",
          "data": {
            "text/plain": "({'cell_type': 'markdown',\n  'metadata': {},\n  'source': ['## Data Preprocessing\\n',\n   'Dataset akan dibersihkan dan diproses menggunakan langkah-langkah berikut:\\n',\n   '1. Menangani nilai yang hilang: menggantikan nilai yang hilang dengan nilai rata-rata atau median.\\n',\n   '2. Normalisasi data: menormalisasi data untuk mencegah fitur dengan rentang besar dari mendominasi model.\\n',\n   '3. Rekayasa fitur: membuat fitur baru dari fitur yang ada, seperti menghitung harga total setiap transaksi.']},)"
          },
          "metadata": {}
        }
      ],
      "execution_count": 4
    },
    {
      "cell_type": "code",
      "source": " {\n   \"cell_type\": \"code\",\n   \"execution_count\": 3,\n   \"metadata\": {},\n   \"outputs\": [],\n   \"source\": [\n    \"# Data preprocessing\\n\",\n    \"# Menangani nilai yang hilang\\n\",\n    \"df.fillna(df.mean(), inplace=True)\\n\",\n    \"\\n\",\n    \"# Normalisasi data\\n\",\n    \"from sklearn.preprocessing import StandardScaler\\n\",\n    \"scaler = StandardScaler()\\n\",\n    \"df[['harga', 'kuantitas']] = scaler.fit_transform(df[['harga', 'kuantitas']])\\n\",\n    \"\\n\",\n    \"# Rekayasa fitur\\n\",\n    \"df['total_harga'] = df['harga'] * df['kuantitas']\"\n   ]\n  }",
      "metadata": {
        "trusted": true
      },
      "outputs": [
        {
          "execution_count": 5,
          "output_type": "execute_result",
          "data": {
            "text/plain": "{'cell_type': 'code',\n 'execution_count': 3,\n 'metadata': {},\n 'outputs': [],\n 'source': ['# Data preprocessing\\n',\n  '# Menangani nilai yang hilang\\n',\n  'df.fillna(df.mean(), inplace=True)\\n',\n  '\\n',\n  '# Normalisasi data\\n',\n  'from sklearn.preprocessing import StandardScaler\\n',\n  'scaler = StandardScaler()\\n',\n  \"df[['harga', 'kuantitas']] = scaler.fit_transform(df[['harga', 'kuantitas']])\\n\",\n  '\\n',\n  '# Rekayasa fitur\\n',\n  \"df['total_harga'] = df['harga'] * df['kuantitas']\"]}"
          },
          "metadata": {}
        }
      ],
      "execution_count": 5
    },
    {
      "cell_type": "code",
      "source": "  {\n   \"cell_type\": \"markdown\",\n   \"metadata\": {},\n   \"source\": [\n    \"## Proses Pembelajaran / Modeling\\n\",\n    \"Model pembelajaran mesin yang digunakan dalam proyek ini adalah model regresi yang diawasi. Model akan dilatih menggunakan dataset yang diproses untuk memprediksi harga total setiap transaksi.\"\n   ]\n  }",
      "metadata": {
        "trusted": true
      },
      "outputs": [
        {
          "execution_count": 6,
          "output_type": "execute_result",
          "data": {
            "text/plain": "{'cell_type': 'markdown',\n 'metadata': {},\n 'source': ['## Proses Pembelajaran / Modeling\\n',\n  'Model pembelajaran mesin yang digunakan dalam proyek ini adalah model regresi yang diawasi. Model akan dilatih menggunakan dataset yang diproses untuk memprediksi harga total setiap transaksi.']}"
          },
          "metadata": {}
        }
      ],
      "execution_count": 6
    },
    {
      "cell_type": "code",
      "source": " {\n   \"cell_type\": \"code\",\n   \"execution_count\": 4,\n   \"metadata\": {},\n   \"outputs\": [],\n   \"source\": [\n    \"# Proses pembelajaran / modeling\\n\",\n    \"X = df.drop('total_harga', axis=1)\\n\",\n    \"y = df['total_harga']\\n\",\n    \"X_train, X_test, y_train, y_test = train_test_split(X, y, test_size=0.2, random_state=42)\\n\",\n    \"\\n\",\n    \"model = LinearRegression()\\n\",\n    \"model.fit(X_train, y_train)\"\n   ]\n  }",
      "metadata": {
        "trusted": true
      },
      "outputs": [
        {
          "execution_count": 7,
          "output_type": "execute_result",
          "data": {
            "text/plain": "{'cell_type': 'code',\n 'execution_count': 4,\n 'metadata': {},\n 'outputs': [],\n 'source': ['# Proses pembelajaran / modeling\\n',\n  \"X = df.drop('total_harga', axis=1)\\n\",\n  \"y = df['total_harga']\\n\",\n  'X_train, X_test, y_train, y_test = train_test_split(X, y, test_size=0.2, random_state=42)\\n',\n  '\\n',\n  'model = LinearRegression()\\n',\n  'model.fit(X_train, y_train)']}"
          },
          "metadata": {}
        }
      ],
      "execution_count": 7
    },
    {
      "cell_type": "code",
      "source": " {\n   \"cell_type\": \"markdown\",\n   \"metadata\": {}",
      "metadata": {
        "trusted": true
      },
      "outputs": [
        {
          "ename": "<class 'SyntaxError'>",
          "evalue": "incomplete input (<ipython-input-8-954d4147e603>, line 3)",
          "traceback": [
            "\u001b[0;36m  Cell \u001b[0;32mIn[8], line 3\u001b[0;36m\u001b[0m\n\u001b[0;31m    \"metadata\": {}\u001b[0m\n\u001b[0m                  ^\u001b[0m\n\u001b[0;31mSyntaxError\u001b[0m\u001b[0;31m:\u001b[0m incomplete input\n"
          ],
          "output_type": "error"
        }
      ],
      "execution_count": 8
    },
    {
      "cell_type": "code",
      "source": "",
      "metadata": {
        "trusted": true
      },
      "outputs": [],
      "execution_count": null
    }
  ]
}